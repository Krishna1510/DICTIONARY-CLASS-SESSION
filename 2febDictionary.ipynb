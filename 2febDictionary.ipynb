{
 "cells": [
  {
   "cell_type": "markdown",
   "id": "325060fd-3dbd-4bfd-be99-e23c2ee0d13f",
   "metadata": {},
   "source": [
    "#dictionary"
   ]
  },
  {
   "cell_type": "code",
   "execution_count": 1,
   "id": "f944d4e2-201d-4e5c-8ffb-4c0f331473c8",
   "metadata": {},
   "outputs": [],
   "source": [
    "d={}"
   ]
  },
  {
   "cell_type": "code",
   "execution_count": 2,
   "id": "030ec1a5-f397-4d1b-904f-0c59d7a54c13",
   "metadata": {},
   "outputs": [
    {
     "data": {
      "text/plain": [
       "dict"
      ]
     },
     "execution_count": 2,
     "metadata": {},
     "output_type": "execute_result"
    }
   ],
   "source": [
    "type(d)"
   ]
  },
  {
   "cell_type": "code",
   "execution_count": 7,
   "id": "5a57956f-7f1a-46fc-a05d-1f78690be166",
   "metadata": {},
   "outputs": [],
   "source": [
    "d1={\"name\":\"krishna\" , \"email\":\"krishna@gmail.com\" , \"age\":30}"
   ]
  },
  {
   "cell_type": "code",
   "execution_count": 8,
   "id": "a92c96af-42df-472a-a631-9a589ee40f7b",
   "metadata": {},
   "outputs": [
    {
     "data": {
      "text/plain": [
       "{'name': 'krishna', 'email': 'krishna@gmail.com', 'age': 30}"
      ]
     },
     "execution_count": 8,
     "metadata": {},
     "output_type": "execute_result"
    }
   ],
   "source": [
    "d1"
   ]
  },
  {
   "cell_type": "code",
   "execution_count": 5,
   "id": "44417867-18a3-4b77-bde3-3f104cc73567",
   "metadata": {},
   "outputs": [
    {
     "data": {
      "text/plain": [
       "dict"
      ]
     },
     "execution_count": 5,
     "metadata": {},
     "output_type": "execute_result"
    }
   ],
   "source": [
    "type(d1)"
   ]
  },
  {
   "cell_type": "code",
   "execution_count": 10,
   "id": "6fc59018-7970-456c-8364-a3200060367c",
   "metadata": {},
   "outputs": [],
   "source": [
    "d2={\"name\": \"krishna\" , \"name\": \"divij\"}"
   ]
  },
  {
   "cell_type": "code",
   "execution_count": 11,
   "id": "c7fa9dc5-2a26-4c9f-af7b-1a1ffdc98f44",
   "metadata": {},
   "outputs": [
    {
     "data": {
      "text/plain": [
       "{'name': 'divij'}"
      ]
     },
     "execution_count": 11,
     "metadata": {},
     "output_type": "execute_result"
    }
   ],
   "source": [
    "d2"
   ]
  },
  {
   "cell_type": "code",
   "execution_count": 12,
   "id": "7c1540d0-5f6d-452f-9f60-9f95ec738e0b",
   "metadata": {},
   "outputs": [],
   "source": [
    "d3={5626:\"hello\"}"
   ]
  },
  {
   "cell_type": "code",
   "execution_count": 13,
   "id": "9a63cfe3-669a-4754-aec1-bec8aa410092",
   "metadata": {},
   "outputs": [
    {
     "data": {
      "text/plain": [
       "{5626: 'hello'}"
      ]
     },
     "execution_count": 13,
     "metadata": {},
     "output_type": "execute_result"
    }
   ],
   "source": [
    "d3"
   ]
  },
  {
   "cell_type": "code",
   "execution_count": 17,
   "id": "abcad21f-956b-4163-a816-c60b6a62dcc8",
   "metadata": {},
   "outputs": [],
   "source": [
    "d4={True :123}"
   ]
  },
  {
   "cell_type": "code",
   "execution_count": 18,
   "id": "340e9349-f01e-478b-9fef-cd1be3e5a923",
   "metadata": {},
   "outputs": [
    {
     "ename": "SyntaxError",
     "evalue": "invalid syntax (796154193.py, line 1)",
     "output_type": "error",
     "traceback": [
      "\u001b[0;36m  Cell \u001b[0;32mIn[18], line 1\u001b[0;36m\u001b[0m\n\u001b[0;31m    d5={@:123}\u001b[0m\n\u001b[0m        ^\u001b[0m\n\u001b[0;31mSyntaxError\u001b[0m\u001b[0;31m:\u001b[0m invalid syntax\n"
     ]
    }
   ],
   "source": [
    "d5={@:123}"
   ]
  },
  {
   "cell_type": "code",
   "execution_count": 20,
   "id": "4dcd8ead-d6ee-45f7-80cc-de2ff546b758",
   "metadata": {},
   "outputs": [],
   "source": [
    "d6={\"@@\":\"nigh0t\"}"
   ]
  },
  {
   "cell_type": "code",
   "execution_count": 21,
   "id": "ae210818-59e8-438f-a806-0c0b1e95e65f",
   "metadata": {},
   "outputs": [
    {
     "ename": "TypeError",
     "evalue": "unhashable type: 'list'",
     "output_type": "error",
     "traceback": [
      "\u001b[0;31m---------------------------------------------------------------------------\u001b[0m",
      "\u001b[0;31mTypeError\u001b[0m                                 Traceback (most recent call last)",
      "Cell \u001b[0;32mIn[21], line 1\u001b[0m\n\u001b[0;32m----> 1\u001b[0m d7\u001b[38;5;241m=\u001b[39m{[\u001b[38;5;241m1\u001b[39m,\u001b[38;5;241m2\u001b[39m,\u001b[38;5;241m3\u001b[39m]:\u001b[38;5;124m\"\u001b[39m\u001b[38;5;124mgood\u001b[39m\u001b[38;5;124m\"\u001b[39m}\n",
      "\u001b[0;31mTypeError\u001b[0m: unhashable type: 'list'"
     ]
    }
   ],
   "source": [
    "d7={[1,2,3]:\"good\"}"
   ]
  },
  {
   "cell_type": "code",
   "execution_count": 22,
   "id": "39141650-c8b7-48ae-b985-8e67e144e110",
   "metadata": {},
   "outputs": [],
   "source": [
    "d8={(5,8,9,1): 12}"
   ]
  },
  {
   "cell_type": "code",
   "execution_count": 23,
   "id": "6e94ba3c-2d1c-4d64-a4a5-d7201a1b39cf",
   "metadata": {},
   "outputs": [
    {
     "data": {
      "text/plain": [
       "{(5, 8, 9, 1): 12}"
      ]
     },
     "execution_count": 23,
     "metadata": {},
     "output_type": "execute_result"
    }
   ],
   "source": [
    "d8"
   ]
  },
  {
   "cell_type": "code",
   "execution_count": 25,
   "id": "ce858132-551f-4d92-90d6-bb787a9b5419",
   "metadata": {},
   "outputs": [
    {
     "ename": "TypeError",
     "evalue": "unhashable type: 'set'",
     "output_type": "error",
     "traceback": [
      "\u001b[0;31m---------------------------------------------------------------------------\u001b[0m",
      "\u001b[0;31mTypeError\u001b[0m                                 Traceback (most recent call last)",
      "Cell \u001b[0;32mIn[25], line 1\u001b[0m\n\u001b[0;32m----> 1\u001b[0m d9\u001b[38;5;241m=\u001b[39m{{\u001b[38;5;241m1\u001b[39m,\u001b[38;5;241m2\u001b[39m,\u001b[38;5;241m3\u001b[39m,\u001b[38;5;241m4\u001b[39m}:\u001b[38;5;124m\"\u001b[39m\u001b[38;5;124mhey\u001b[39m\u001b[38;5;124m\"\u001b[39m}\n",
      "\u001b[0;31mTypeError\u001b[0m: unhashable type: 'set'"
     ]
    }
   ],
   "source": [
    "d9={{1,2,3,4}:\"hey\"}"
   ]
  },
  {
   "cell_type": "code",
   "execution_count": 27,
   "id": "209719da-7c20-4f05-8ac8-0093482a2330",
   "metadata": {},
   "outputs": [
    {
     "ename": "SyntaxError",
     "evalue": "unmatched '}' (220232587.py, line 1)",
     "output_type": "error",
     "traceback": [
      "\u001b[0;36m  Cell \u001b[0;32mIn[27], line 1\u001b[0;36m\u001b[0m\n\u001b[0;31m    d10={\"hello\":95}: \"hii\"}\u001b[0m\n\u001b[0m                           ^\u001b[0m\n\u001b[0;31mSyntaxError\u001b[0m\u001b[0;31m:\u001b[0m unmatched '}'\n"
     ]
    }
   ],
   "source": [
    "d10={\"hello\":95}: \"hii\"}"
   ]
  },
  {
   "cell_type": "code",
   "execution_count": 29,
   "id": "f7650531-c134-4f43-982d-c23a3feade46",
   "metadata": {},
   "outputs": [
    {
     "ename": "TypeError",
     "evalue": "unhashable type: 'dict'",
     "output_type": "error",
     "traceback": [
      "\u001b[0;31m---------------------------------------------------------------------------\u001b[0m",
      "\u001b[0;31mTypeError\u001b[0m                                 Traceback (most recent call last)",
      "Cell \u001b[0;32mIn[29], line 1\u001b[0m\n\u001b[0;32m----> 1\u001b[0m d10\u001b[38;5;241m=\u001b[39m{{\u001b[38;5;124m\"\u001b[39m\u001b[38;5;124mkey\u001b[39m\u001b[38;5;124m\"\u001b[39m:\u001b[38;5;241m20\u001b[39m}: \u001b[38;5;124m\"\u001b[39m\u001b[38;5;124mvalue\u001b[39m\u001b[38;5;124m\"\u001b[39m}\n",
      "\u001b[0;31mTypeError\u001b[0m: unhashable type: 'dict'"
     ]
    }
   ],
   "source": [
    "d10={{\"key\":20}: \"value\"}"
   ]
  },
  {
   "cell_type": "code",
   "execution_count": 30,
   "id": "c8fab343-9246-414a-8a38-60a0cc9637c7",
   "metadata": {},
   "outputs": [],
   "source": [
    "d11={\"course_name\":[\"data science \" , \"masters \"]}"
   ]
  },
  {
   "cell_type": "code",
   "execution_count": 31,
   "id": "9d3d2082-d921-43d4-a92a-4d364b201ee9",
   "metadata": {},
   "outputs": [
    {
     "data": {
      "text/plain": [
       "{'course_name': ['data science ', 'masters ']}"
      ]
     },
     "execution_count": 31,
     "metadata": {},
     "output_type": "execute_result"
    }
   ],
   "source": [
    "d11"
   ]
  },
  {
   "cell_type": "code",
   "execution_count": 32,
   "id": "c105205a-fb12-4962-b355-4fa262c25984",
   "metadata": {},
   "outputs": [],
   "source": [
    "d12={\"key\":{\"name\":\"krishna \"}}"
   ]
  },
  {
   "cell_type": "code",
   "execution_count": 33,
   "id": "940cb341-3c34-4d21-9508-6679689de8a4",
   "metadata": {},
   "outputs": [
    {
     "data": {
      "text/plain": [
       "{'key': {'name': 'krishna '}}"
      ]
     },
     "execution_count": 33,
     "metadata": {},
     "output_type": "execute_result"
    }
   ],
   "source": [
    "d12"
   ]
  },
  {
   "cell_type": "code",
   "execution_count": 34,
   "id": "78501d33-2640-4150-be9d-9489b11ff154",
   "metadata": {},
   "outputs": [],
   "source": [
    "d13={\"batch_name\":[\"impact batch\"]}"
   ]
  },
  {
   "cell_type": "code",
   "execution_count": 35,
   "id": "048b7df4-f030-48f7-9eef-645998c4aaab",
   "metadata": {},
   "outputs": [],
   "source": [
    "d13[\"timing\"]=(8,8,8)"
   ]
  },
  {
   "cell_type": "code",
   "execution_count": 36,
   "id": "505e9b61-f4c5-4e1b-9eb5-59cb1d3979a5",
   "metadata": {},
   "outputs": [
    {
     "data": {
      "text/plain": [
       "{'batch_name': ['impact batch'], 'timing': (8, 8, 8)}"
      ]
     },
     "execution_count": 36,
     "metadata": {},
     "output_type": "execute_result"
    }
   ],
   "source": [
    "d13"
   ]
  },
  {
   "cell_type": "code",
   "execution_count": 37,
   "id": "cca87585-4982-4d49-b8a8-c8100e95c2f5",
   "metadata": {},
   "outputs": [
    {
     "data": {
      "text/plain": [
       "(8, 8, 8)"
      ]
     },
     "execution_count": 37,
     "metadata": {},
     "output_type": "execute_result"
    }
   ],
   "source": [
    "d13[\"timing\"]"
   ]
  },
  {
   "cell_type": "code",
   "execution_count": 38,
   "id": "c69bee02-523e-4784-8439-88624cc3f00b",
   "metadata": {},
   "outputs": [
    {
     "ename": "NameError",
     "evalue": "name 'key' is not defined",
     "output_type": "error",
     "traceback": [
      "\u001b[0;31m---------------------------------------------------------------------------\u001b[0m",
      "\u001b[0;31mNameError\u001b[0m                                 Traceback (most recent call last)",
      "Cell \u001b[0;32mIn[38], line 1\u001b[0m\n\u001b[0;32m----> 1\u001b[0m d13[\u001b[43mkey\u001b[49m]\n",
      "\u001b[0;31mNameError\u001b[0m: name 'key' is not defined"
     ]
    }
   ],
   "source": [
    "d13[key]"
   ]
  },
  {
   "cell_type": "code",
   "execution_count": 39,
   "id": "0d150e05-679c-40ad-83bf-aa7fc932a715",
   "metadata": {},
   "outputs": [],
   "source": [
    "d13[\"name\" ] = (\"krishna\")"
   ]
  },
  {
   "cell_type": "code",
   "execution_count": 40,
   "id": "ad2c5c36-e974-4ef9-8864-d7995fd84a41",
   "metadata": {},
   "outputs": [
    {
     "data": {
      "text/plain": [
       "{'batch_name': ['impact batch'], 'timing': (8, 8, 8), 'name': 'krishna'}"
      ]
     },
     "execution_count": 40,
     "metadata": {},
     "output_type": "execute_result"
    }
   ],
   "source": [
    "d13"
   ]
  },
  {
   "cell_type": "code",
   "execution_count": 41,
   "id": "214ef888-df7e-43db-a88f-b68efc5356eb",
   "metadata": {},
   "outputs": [
    {
     "data": {
      "text/plain": [
       "'krishna'"
      ]
     },
     "execution_count": 41,
     "metadata": {},
     "output_type": "execute_result"
    }
   ],
   "source": [
    "d13[\"name\"]"
   ]
  },
  {
   "cell_type": "code",
   "execution_count": 43,
   "id": "90fa533d-ede6-4bf3-88b3-8cca39d705db",
   "metadata": {},
   "outputs": [
    {
     "data": {
      "text/plain": [
       "'KRISHNA'"
      ]
     },
     "execution_count": 43,
     "metadata": {},
     "output_type": "execute_result"
    }
   ],
   "source": [
    "d13[\"name\"].upper()"
   ]
  },
  {
   "cell_type": "code",
   "execution_count": 44,
   "id": "7a17279e-79c1-49ee-906c-42709df494e9",
   "metadata": {},
   "outputs": [
    {
     "data": {
      "text/plain": [
       "{'batch_name': ['impact batch'], 'timing': (8, 8, 8), 'name': 'krishna'}"
      ]
     },
     "execution_count": 44,
     "metadata": {},
     "output_type": "execute_result"
    }
   ],
   "source": [
    "d13"
   ]
  },
  {
   "cell_type": "code",
   "execution_count": 45,
   "id": "1182bc9a-757e-4ec7-a416-3300f8291f0f",
   "metadata": {},
   "outputs": [
    {
     "data": {
      "text/plain": [
       "(8, 8, 8)"
      ]
     },
     "execution_count": 45,
     "metadata": {},
     "output_type": "execute_result"
    }
   ],
   "source": [
    "d13[\"timing\"]"
   ]
  },
  {
   "cell_type": "code",
   "execution_count": 49,
   "id": "dee1dc9d-4c84-4126-857c-2351b3e4d00f",
   "metadata": {},
   "outputs": [
    {
     "data": {
      "text/plain": [
       "'krishna'"
      ]
     },
     "execution_count": 49,
     "metadata": {},
     "output_type": "execute_result"
    }
   ],
   "source": [
    "d13[\"name\"]"
   ]
  },
  {
   "cell_type": "code",
   "execution_count": 50,
   "id": "37cbddb6-7439-4be0-a3a6-0912de272094",
   "metadata": {},
   "outputs": [],
   "source": [
    "d13[\"key1\"]=(\"good\")"
   ]
  },
  {
   "cell_type": "code",
   "execution_count": 51,
   "id": "dfa5ae05-3bc6-41cb-8886-2b770c163462",
   "metadata": {},
   "outputs": [
    {
     "data": {
      "text/plain": [
       "{'batch_name': ['impact batch'],\n",
       " 'timing': (8, 8, 8),\n",
       " 'name': 'krishna',\n",
       " 'key1': 'good'}"
      ]
     },
     "execution_count": 51,
     "metadata": {},
     "output_type": "execute_result"
    }
   ],
   "source": [
    "d13"
   ]
  },
  {
   "cell_type": "code",
   "execution_count": 52,
   "id": "5362dd6c-a7ec-4bbd-abb0-93898d571600",
   "metadata": {},
   "outputs": [],
   "source": [
    "del d13[\"name\"]"
   ]
  },
  {
   "cell_type": "code",
   "execution_count": 53,
   "id": "bfefd838-a282-4adc-aa51-a1c7c6c6ba4e",
   "metadata": {},
   "outputs": [
    {
     "data": {
      "text/plain": [
       "{'batch_name': ['impact batch'], 'timing': (8, 8, 8), 'key1': 'good'}"
      ]
     },
     "execution_count": 53,
     "metadata": {},
     "output_type": "execute_result"
    }
   ],
   "source": [
    "d13"
   ]
  },
  {
   "cell_type": "code",
   "execution_count": 55,
   "id": "d98c493e-5d4c-4fdd-a005-0a8566686eff",
   "metadata": {},
   "outputs": [
    {
     "data": {
      "text/plain": [
       "3"
      ]
     },
     "execution_count": 55,
     "metadata": {},
     "output_type": "execute_result"
    }
   ],
   "source": [
    "len (d13)"
   ]
  },
  {
   "cell_type": "code",
   "execution_count": 56,
   "id": "55d6cb14-947b-47c1-a9da-d56568ffc795",
   "metadata": {},
   "outputs": [
    {
     "data": {
      "text/plain": [
       "dict_keys(['batch_name', 'timing', 'key1'])"
      ]
     },
     "execution_count": 56,
     "metadata": {},
     "output_type": "execute_result"
    }
   ],
   "source": [
    "d13.keys()"
   ]
  },
  {
   "cell_type": "code",
   "execution_count": 57,
   "id": "5f2269c2-c7a7-4364-b49f-3c189df18248",
   "metadata": {},
   "outputs": [
    {
     "data": {
      "text/plain": [
       "dict_values([['impact batch'], (8, 8, 8), 'good'])"
      ]
     },
     "execution_count": 57,
     "metadata": {},
     "output_type": "execute_result"
    }
   ],
   "source": [
    "d13.values()"
   ]
  },
  {
   "cell_type": "code",
   "execution_count": 60,
   "id": "78ae94de-a5d3-438b-8fe4-7c2c86469412",
   "metadata": {},
   "outputs": [
    {
     "data": {
      "text/plain": [
       "[['impact batch'], (8, 8, 8), 'good']"
      ]
     },
     "execution_count": 60,
     "metadata": {},
     "output_type": "execute_result"
    }
   ],
   "source": [
    "list(d13.values())"
   ]
  },
  {
   "cell_type": "code",
   "execution_count": 61,
   "id": "f2792093-d435-4669-a195-2080bd7f7aad",
   "metadata": {},
   "outputs": [
    {
     "data": {
      "text/plain": [
       "['batch_name', 'timing', 'key1']"
      ]
     },
     "execution_count": 61,
     "metadata": {},
     "output_type": "execute_result"
    }
   ],
   "source": [
    "list(d13.keys())"
   ]
  },
  {
   "cell_type": "code",
   "execution_count": 62,
   "id": "3aeaa90c-2dad-4408-ae6a-769fc2a717f4",
   "metadata": {},
   "outputs": [
    {
     "data": {
      "text/plain": [
       "[('batch_name', ['impact batch']), ('timing', (8, 8, 8)), ('key1', 'good')]"
      ]
     },
     "execution_count": 62,
     "metadata": {},
     "output_type": "execute_result"
    }
   ],
   "source": [
    "list(d13.items())"
   ]
  },
  {
   "cell_type": "code",
   "execution_count": 63,
   "id": "d8b2e8cb-6f23-459e-948b-092b0e99ac6c",
   "metadata": {},
   "outputs": [
    {
     "data": {
      "text/plain": [
       "{'batch_name': ['impact batch'], 'timing': (8, 8, 8), 'key1': 'good'}"
      ]
     },
     "execution_count": 63,
     "metadata": {},
     "output_type": "execute_result"
    }
   ],
   "source": [
    "d13"
   ]
  },
  {
   "cell_type": "code",
   "execution_count": 64,
   "id": "754f081c-e281-4d84-b4b9-5cb62c456148",
   "metadata": {},
   "outputs": [],
   "source": [
    "d14=d13.copy()"
   ]
  },
  {
   "cell_type": "code",
   "execution_count": 65,
   "id": "01fc4cfd-c1b6-426b-8ffe-733614530680",
   "metadata": {},
   "outputs": [
    {
     "data": {
      "text/plain": [
       "{'batch_name': ['impact batch'], 'timing': (8, 8, 8), 'key1': 'good'}"
      ]
     },
     "execution_count": 65,
     "metadata": {},
     "output_type": "execute_result"
    }
   ],
   "source": [
    "d14"
   ]
  },
  {
   "cell_type": "code",
   "execution_count": 66,
   "id": "13a69bf6-b46c-4a60-b5da-1b3d5c97cdb6",
   "metadata": {},
   "outputs": [],
   "source": [
    "d15=d13"
   ]
  },
  {
   "cell_type": "code",
   "execution_count": 67,
   "id": "334922a2-3681-4eb5-8597-3e6a4e4fbe05",
   "metadata": {},
   "outputs": [
    {
     "data": {
      "text/plain": [
       "{'batch_name': ['impact batch'], 'timing': (8, 8, 8), 'key1': 'good'}"
      ]
     },
     "execution_count": 67,
     "metadata": {},
     "output_type": "execute_result"
    }
   ],
   "source": [
    "d15"
   ]
  },
  {
   "cell_type": "code",
   "execution_count": 68,
   "id": "147bf50d-0156-4615-93c8-935927535fbe",
   "metadata": {},
   "outputs": [
    {
     "ename": "TypeError",
     "evalue": "pop expected at least 1 argument, got 0",
     "output_type": "error",
     "traceback": [
      "\u001b[0;31m---------------------------------------------------------------------------\u001b[0m",
      "\u001b[0;31mTypeError\u001b[0m                                 Traceback (most recent call last)",
      "Cell \u001b[0;32mIn[68], line 1\u001b[0m\n\u001b[0;32m----> 1\u001b[0m \u001b[43md13\u001b[49m\u001b[38;5;241;43m.\u001b[39;49m\u001b[43mpop\u001b[49m\u001b[43m(\u001b[49m\u001b[43m)\u001b[49m\n",
      "\u001b[0;31mTypeError\u001b[0m: pop expected at least 1 argument, got 0"
     ]
    }
   ],
   "source": [
    "d13.pop()"
   ]
  },
  {
   "cell_type": "code",
   "execution_count": 70,
   "id": "59d31795-605f-4ce2-8c3a-efcb2260b5ab",
   "metadata": {},
   "outputs": [
    {
     "data": {
      "text/plain": [
       "(8, 8, 8)"
      ]
     },
     "execution_count": 70,
     "metadata": {},
     "output_type": "execute_result"
    }
   ],
   "source": [
    "d13.pop(\"timing\")"
   ]
  },
  {
   "cell_type": "code",
   "execution_count": 71,
   "id": "96c1c25d-25c4-4e5b-9f0f-74e03c00b5b4",
   "metadata": {},
   "outputs": [
    {
     "data": {
      "text/plain": [
       "{'batch_name': ['impact batch'], 'key1': 'good'}"
      ]
     },
     "execution_count": 71,
     "metadata": {},
     "output_type": "execute_result"
    }
   ],
   "source": [
    "d13"
   ]
  },
  {
   "cell_type": "code",
   "execution_count": 73,
   "id": "7ae23920-2045-412f-9beb-efb66bf82c36",
   "metadata": {},
   "outputs": [
    {
     "data": {
      "text/plain": [
       "{1: ('a', 'b', 'c'), 2: ('a', 'b', 'c'), 3: ('a', 'b', 'c')}"
      ]
     },
     "execution_count": 73,
     "metadata": {},
     "output_type": "execute_result"
    }
   ],
   "source": [
    "d.fromkeys((1,2,3),(\"a\",\"b\",\"c\"))"
   ]
  },
  {
   "cell_type": "code",
   "execution_count": 75,
   "id": "2c3b0074-30fb-4ba2-93e1-cf0cb7cbc806",
   "metadata": {},
   "outputs": [],
   "source": [
    "d16= {\"key1\":\"value\" , \"key2\":\"value2\"}\n",
    "d17= {\"key3\":\"value3\" , \"key4\":\"value4\"}"
   ]
  },
  {
   "cell_type": "code",
   "execution_count": 76,
   "id": "6b9131df-9d7a-43ff-9054-6f9fb25f10e1",
   "metadata": {},
   "outputs": [
    {
     "data": {
      "text/plain": [
       "({'key1': 'value', 'key2': 'value2'}, {'key3': 'value3', 'key4': 'value4'})"
      ]
     },
     "execution_count": 76,
     "metadata": {},
     "output_type": "execute_result"
    }
   ],
   "source": [
    "(d16,d17)"
   ]
  },
  {
   "cell_type": "code",
   "execution_count": 77,
   "id": "93fa9358-6dfc-4eae-8f9f-44e733ed4afa",
   "metadata": {},
   "outputs": [],
   "source": [
    "d16.update(d17)"
   ]
  },
  {
   "cell_type": "code",
   "execution_count": 78,
   "id": "7798ab57-63be-4251-8bae-2100dcb53694",
   "metadata": {},
   "outputs": [
    {
     "data": {
      "text/plain": [
       "{'key1': 'value', 'key2': 'value2', 'key3': 'value3', 'key4': 'value4'}"
      ]
     },
     "execution_count": 78,
     "metadata": {},
     "output_type": "execute_result"
    }
   ],
   "source": [
    "d16"
   ]
  },
  {
   "cell_type": "code",
   "execution_count": 79,
   "id": "a34f67be-f86e-4ea0-a7fd-bc0f41e98111",
   "metadata": {},
   "outputs": [
    {
     "data": {
      "text/plain": [
       "{'key3': 'value3', 'key4': 'value4'}"
      ]
     },
     "execution_count": 79,
     "metadata": {},
     "output_type": "execute_result"
    }
   ],
   "source": [
    "d17"
   ]
  },
  {
   "cell_type": "code",
   "execution_count": 80,
   "id": "e5d92f86-6303-4c97-a5e6-94085e06cc0e",
   "metadata": {},
   "outputs": [],
   "source": [
    "d17.update(d16)"
   ]
  },
  {
   "cell_type": "code",
   "execution_count": 81,
   "id": "acbbce1a-b0c3-4844-af6b-2d5c7d643f8c",
   "metadata": {},
   "outputs": [
    {
     "data": {
      "text/plain": [
       "{'key3': 'value3', 'key4': 'value4', 'key1': 'value', 'key2': 'value2'}"
      ]
     },
     "execution_count": 81,
     "metadata": {},
     "output_type": "execute_result"
    }
   ],
   "source": [
    "d17"
   ]
  },
  {
   "cell_type": "code",
   "execution_count": 82,
   "id": "a91f8d5a-7b78-470f-b901-eb8263806246",
   "metadata": {},
   "outputs": [
    {
     "data": {
      "text/plain": [
       "{'key1': 'value', 'key2': 'value2', 'key3': 'value3', 'key4': 'value4'}"
      ]
     },
     "execution_count": 82,
     "metadata": {},
     "output_type": "execute_result"
    }
   ],
   "source": [
    "d16"
   ]
  },
  {
   "cell_type": "code",
   "execution_count": 83,
   "id": "ff34b54d-5ebf-4f60-8533-4afee7bf2ba4",
   "metadata": {},
   "outputs": [],
   "source": [
    "d17.get(\"krishna\")"
   ]
  },
  {
   "cell_type": "code",
   "execution_count": 84,
   "id": "fa9197a3-2cba-45e0-a018-99dfd4f06f42",
   "metadata": {},
   "outputs": [
    {
     "data": {
      "text/plain": [
       "'value2'"
      ]
     },
     "execution_count": 84,
     "metadata": {},
     "output_type": "execute_result"
    }
   ],
   "source": [
    "d17.get(\"key2\")"
   ]
  },
  {
   "cell_type": "markdown",
   "id": "ce896ab7-d42f-4c9d-a33e-f2c52c7c06de",
   "metadata": {},
   "source": [
    "# dictionary comprehension"
   ]
  },
  {
   "cell_type": "code",
   "execution_count": 86,
   "id": "3fbd563b-b6b5-47a6-abc3-77aee8ce0256",
   "metadata": {},
   "outputs": [
    {
     "ename": "SyntaxError",
     "evalue": "invalid syntax (814236266.py, line 1)",
     "output_type": "error",
     "traceback": [
      "\u001b[0;36m  Cell \u001b[0;32mIn[86], line 1\u001b[0;36m\u001b[0m\n\u001b[0;31m    {for i in range(1,11)}\u001b[0m\n\u001b[0m     ^\u001b[0m\n\u001b[0;31mSyntaxError\u001b[0m\u001b[0;31m:\u001b[0m invalid syntax\n"
     ]
    }
   ],
   "source": [
    "{for i in range(1,11)}"
   ]
  },
  {
   "cell_type": "code",
   "execution_count": 88,
   "id": "d2898f92-d5f5-4f31-a71d-e294304f53da",
   "metadata": {},
   "outputs": [
    {
     "data": {
      "text/plain": [
       "range(1, 11)"
      ]
     },
     "execution_count": 88,
     "metadata": {},
     "output_type": "execute_result"
    }
   ],
   "source": [
    "range(1,11)"
   ]
  },
  {
   "cell_type": "code",
   "execution_count": 89,
   "id": "ed5db220-5777-4e80-b51b-787d056a60c3",
   "metadata": {},
   "outputs": [
    {
     "data": {
      "text/plain": [
       "[1, 2, 3, 4, 5, 6, 7, 8, 9, 10]"
      ]
     },
     "execution_count": 89,
     "metadata": {},
     "output_type": "execute_result"
    }
   ],
   "source": [
    "list(range(1,11))"
   ]
  },
  {
   "cell_type": "code",
   "execution_count": 91,
   "id": "85abc3d7-0bed-421d-8e82-730d18e57e99",
   "metadata": {},
   "outputs": [
    {
     "data": {
      "text/plain": [
       "{1: 1, 2: 4, 3: 9, 4: 16, 5: 25, 6: 36, 7: 49, 8: 64, 9: 81, 10: 100}"
      ]
     },
     "execution_count": 91,
     "metadata": {},
     "output_type": "execute_result"
    }
   ],
   "source": [
    "{i :i**2 for i in range(1,11)}"
   ]
  },
  {
   "cell_type": "code",
   "execution_count": 92,
   "id": "9741f031-9003-4450-b762-218ac98bef6b",
   "metadata": {},
   "outputs": [
    {
     "data": {
      "text/plain": [
       "{1: 11, 2: 12, 3: 13, 4: 14, 5: 15, 6: 16, 7: 17, 8: 18, 9: 19, 10: 20}"
      ]
     },
     "execution_count": 92,
     "metadata": {},
     "output_type": "execute_result"
    }
   ],
   "source": [
    "{i :i+10 for i in range(1,11)}"
   ]
  },
  {
   "cell_type": "code",
   "execution_count": 93,
   "id": "5f3b902d-988e-4334-94ee-c80374e44dcc",
   "metadata": {},
   "outputs": [
    {
     "data": {
      "text/plain": [
       "{1: 0.0,\n",
       " 2: 0.3010299956639812,\n",
       " 3: 0.47712125471966244,\n",
       " 4: 0.6020599913279624,\n",
       " 5: 0.6989700043360189,\n",
       " 6: 0.7781512503836436,\n",
       " 7: 0.8450980400142568,\n",
       " 8: 0.9030899869919435,\n",
       " 9: 0.9542425094393249,\n",
       " 10: 1.0}"
      ]
     },
     "execution_count": 93,
     "metadata": {},
     "output_type": "execute_result"
    }
   ],
   "source": [
    "import math\n",
    "{i : math.log10(i) for i in range(1,11)}"
   ]
  },
  {
   "cell_type": "code",
   "execution_count": 94,
   "id": "740eb30e-4876-4d50-b47c-bef9da0199b2",
   "metadata": {},
   "outputs": [
    {
     "data": {
      "text/plain": [
       "{'batch_name': ['impact batch'], 'key1': 'good'}"
      ]
     },
     "execution_count": 94,
     "metadata": {},
     "output_type": "execute_result"
    }
   ],
   "source": [
    "d13"
   ]
  },
  {
   "cell_type": "code",
   "execution_count": 97,
   "id": "f5b18774-f073-401f-8d21-563bc908da30",
   "metadata": {},
   "outputs": [
    {
     "data": {
      "text/plain": [
       "True"
      ]
     },
     "execution_count": 97,
     "metadata": {},
     "output_type": "execute_result"
    }
   ],
   "source": [
    "\"batch_name\" in d13"
   ]
  },
  {
   "cell_type": "code",
   "execution_count": 98,
   "id": "55d2be50-6ff3-410f-9c2d-ac123a7ef1b5",
   "metadata": {},
   "outputs": [],
   "source": [
    "d20={i : math.log10(i) for i in range(1,11)}"
   ]
  },
  {
   "cell_type": "code",
   "execution_count": 99,
   "id": "5b103e96-4ecf-471b-87e4-07fa52f68a12",
   "metadata": {},
   "outputs": [
    {
     "data": {
      "text/plain": [
       "{1: 0.0,\n",
       " 2: 0.3010299956639812,\n",
       " 3: 0.47712125471966244,\n",
       " 4: 0.6020599913279624,\n",
       " 5: 0.6989700043360189,\n",
       " 6: 0.7781512503836436,\n",
       " 7: 0.8450980400142568,\n",
       " 8: 0.9030899869919435,\n",
       " 9: 0.9542425094393249,\n",
       " 10: 1.0}"
      ]
     },
     "execution_count": 99,
     "metadata": {},
     "output_type": "execute_result"
    }
   ],
   "source": [
    "d20"
   ]
  },
  {
   "cell_type": "code",
   "execution_count": 109,
   "id": "d6bd636e-b6a6-4381-a547-b7339ba00b3d",
   "metadata": {},
   "outputs": [
    {
     "name": "stdout",
     "output_type": "stream",
     "text": [
      "0.3010299956639812\n",
      "0.6020599913279624\n",
      "0.7781512503836436\n",
      "0.9030899869919435\n",
      "1.0\n"
     ]
    }
   ],
   "source": [
    "for i in d20.keys():\n",
    "    if i%2==0:\n",
    "        print(d20[i])"
   ]
  },
  {
   "cell_type": "code",
   "execution_count": null,
   "id": "2e31dd6d-2ed3-4b76-b4b9-530be56d2694",
   "metadata": {},
   "outputs": [],
   "source": [
    "\n",
    "        "
   ]
  }
 ],
 "metadata": {
  "kernelspec": {
   "display_name": "Python 3 (ipykernel)",
   "language": "python",
   "name": "python3"
  },
  "language_info": {
   "codemirror_mode": {
    "name": "ipython",
    "version": 3
   },
   "file_extension": ".py",
   "mimetype": "text/x-python",
   "name": "python",
   "nbconvert_exporter": "python",
   "pygments_lexer": "ipython3",
   "version": "3.10.8"
  }
 },
 "nbformat": 4,
 "nbformat_minor": 5
}
